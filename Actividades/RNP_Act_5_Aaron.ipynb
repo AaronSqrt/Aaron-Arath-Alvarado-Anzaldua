{
  "cells": [
    {
      "cell_type": "markdown",
      "metadata": {
        "id": "XQsUJGAxdgVE"
      },
      "source": [
        "# Actividad 5: Uso de software para búsqueda.\n",
        "\n",
        "## Aaron Arath Alvarado Anzaldua\n",
        "\n",
        "## 1951187\n",
        "\n",
        "## Grupo 007 | Hora V1 5:00 Pm"
      ]
    },
    {
      "cell_type": "markdown",
      "metadata": {
        "id": "a9ShJDbDdjih"
      },
      "source": [
        "Objetivo.-\n",
        "\n",
        "Entrenar un modelo de Red Neuronal Prealimentada (tipo feedforward).\n",
        "\n",
        "Comenzemos\n",
        "\n",
        "---\n",
        "\n"
      ]
    },
    {
      "cell_type": "markdown",
      "metadata": {
        "id": "yFeR9Needqih"
      },
      "source": [
        "Cargar librerias\n",
        "\n",
        "\"Tensorflow as tf\" es la libreria para poder usar tensorflow\n"
      ]
    },
    {
      "cell_type": "code",
      "execution_count": 54,
      "metadata": {
        "id": "YASCIls5dddE"
      },
      "outputs": [],
      "source": [
        "#Cargar librerias\n",
        "import tensorflow as tf #Libreria de tensor flow y keras\n",
        "import tensorflow_datasets as tfds\n",
        "from tensorflow.keras.datasets import mnist\n",
        "\n",
        "\n",
        "#Librerias de apoyo\n",
        "import numpy as np\n",
        "import matplotlib.pyplot as plt"
      ]
    },
    {
      "cell_type": "markdown",
      "metadata": {
        "id": "i4oTOaKBejm1"
      },
      "source": [
        "#Importar el conjunto de datos de clasificación de dígitos MNIST"
      ]
    },
    {
      "cell_type": "markdown",
      "metadata": {
        "id": "CjwrBM12e9Zm"
      },
      "source": [
        "Este es un conjunto de datos de 60.000 imágenes en escala de grises de 28x28 de los 10 dígitos, junto con un conjunto de prueba de 10.000 imágenes."
      ]
    },
    {
      "cell_type": "code",
      "execution_count": 55,
      "metadata": {
        "id": "DQB_s92OfVZC"
      },
      "outputs": [],
      "source": [
        "#Cargar conjunto de datos\n",
        "datos, metadatos = tfds.load('mnist', as_supervised=True, with_info=True)\n"
      ]
    },
    {
      "cell_type": "markdown",
      "metadata": {
        "id": "82KVo3OHfytv"
      },
      "source": [
        "Imprimir el conjunto de datos para ver con que estamos trabajando"
      ]
    },
    {
      "cell_type": "code",
      "execution_count": 56,
      "metadata": {
        "colab": {
          "base_uri": "https://localhost:8080/"
        },
        "id": "ecGoR9A-lCrh",
        "outputId": "47f5fd8e-e282-4fae-bf81-542804e766b2"
      },
      "outputs": [
        {
          "output_type": "execute_result",
          "data": {
            "text/plain": [
              "tfds.core.DatasetInfo(\n",
              "    name='mnist',\n",
              "    full_name='mnist/3.0.1',\n",
              "    description=\"\"\"\n",
              "    The MNIST database of handwritten digits.\n",
              "    \"\"\",\n",
              "    homepage='http://yann.lecun.com/exdb/mnist/',\n",
              "    data_dir='/root/tensorflow_datasets/mnist/3.0.1',\n",
              "    file_format=tfrecord,\n",
              "    download_size=11.06 MiB,\n",
              "    dataset_size=21.00 MiB,\n",
              "    features=FeaturesDict({\n",
              "        'image': Image(shape=(28, 28, 1), dtype=uint8),\n",
              "        'label': ClassLabel(shape=(), dtype=int64, num_classes=10),\n",
              "    }),\n",
              "    supervised_keys=('image', 'label'),\n",
              "    disable_shuffling=False,\n",
              "    splits={\n",
              "        'test': <SplitInfo num_examples=10000, num_shards=1>,\n",
              "        'train': <SplitInfo num_examples=60000, num_shards=1>,\n",
              "    },\n",
              "    citation=\"\"\"@article{lecun2010mnist,\n",
              "      title={MNIST handwritten digit database},\n",
              "      author={LeCun, Yann and Cortes, Corinna and Burges, CJ},\n",
              "      journal={ATT Labs [Online]. Available: http://yann.lecun.com/exdb/mnist},\n",
              "      volume={2},\n",
              "      year={2010}\n",
              "    }\"\"\",\n",
              ")"
            ]
          },
          "metadata": {},
          "execution_count": 56
        }
      ],
      "source": [
        "#Analizar con que estamos trabajando\n",
        "metadatos"
      ]
    },
    {
      "cell_type": "markdown",
      "metadata": {
        "id": "fi2qXtUilhRW"
      },
      "source": [
        "De esto podemos destacar que tenemos 10mil imagenes de prueba y 60mil imagenes de entrenamiento, asi como la resolucion de las fotos que es de 28x28 megapixeles, asi como el nombre de el conjunto, \"test\" es el nombre que se le asigno al conjunto de prueba, y \"train\" es el nombre que se le asigno al conjunto de entrenamiento\n",
        "\n",
        "\n",
        "---\n",
        "\n",
        "\n",
        "##Explorar datos\n",
        "Otra forma de explorar que tipos de datos tenemos es la siguiente\n",
        "\n"
      ]
    },
    {
      "cell_type": "code",
      "execution_count": 58,
      "metadata": {
        "colab": {
          "base_uri": "https://localhost:8080/"
        },
        "id": "wS2tVb4bl6EV",
        "outputId": "4f5d1199-4cff-4cef-bc4d-bac1af047750"
      },
      "outputs": [
        {
          "output_type": "stream",
          "name": "stdout",
          "text": [
            "['0', '1', '2', '3', '4', '5', '6', '7', '8', '9']\n"
          ]
        },
        {
          "output_type": "execute_result",
          "data": {
            "text/plain": [
              "(60000, 28, 28)"
            ]
          },
          "metadata": {},
          "execution_count": 58
        }
      ],
      "source": [
        "#Separar datos\n",
        "\n",
        "\n",
        "#Ver que nombres de las categorias\n",
        "nombres_clases = metadatos.features['label'].names\n",
        "print(nombres_clases)\n",
        "\n",
        "#Ver que tipos de datos\n",
        "train_images.shape\n"
      ]
    },
    {
      "cell_type": "markdown",
      "metadata": {
        "id": "ywo-g0dFnos2"
      },
      "source": [
        "De esto podemos destacar lo mismo que antes, las clases son 10 datos, con numeros del 1 al 9\n",
        "\n",
        "Contamos con 60mil imagenes representada por 28x28 pixeles\n",
        "y Cada etiqueta tiene un numero entre el 0 y el 9"
      ]
    },
    {
      "cell_type": "code",
      "execution_count": 59,
      "metadata": {
        "id": "WON_8_oSs6hB"
      },
      "outputs": [],
      "source": [
        "#Nombre de las clases\n",
        "class_names = ['0', '1', '2', '3', '4',\n",
        "               '5', '6', '7', '8', '9']\n"
      ]
    },
    {
      "cell_type": "markdown",
      "metadata": {
        "id": "lY44XC_pn_Ps"
      },
      "source": [
        "#Preprocesamiento de datos"
      ]
    },
    {
      "cell_type": "markdown",
      "metadata": {
        "id": "pK0OY-QBo1Ni"
      },
      "source": [
        "Los datos se deben preprocesar antes de entrenar la red. Si inspecciona la primera imagen en el conjunto de entrenamiento, verá que los valores de los píxeles se encuentran entre 0 y 255:"
      ]
    },
    {
      "cell_type": "code",
      "execution_count": 60,
      "metadata": {
        "id": "OhetZbtUpCJ5"
      },
      "outputs": [],
      "source": [
        "#Convertir datos de 0 a 1\n",
        "train_images = train_images / 255.0\n",
        "\n",
        "test_images = test_images / 255.0"
      ]
    },
    {
      "cell_type": "markdown",
      "metadata": {
        "id": "1AyCwalZsAmK"
      },
      "source": [
        "Para verificar que los datos tengan el formato correcto y que usted esté listo para generar y entrenar la red, mostraremos las primeras 25 imágenes del *conjunto de entrenamiento* con el nombre de la clase debajo de cada imagen."
      ]
    },
    {
      "cell_type": "code",
      "execution_count": 61,
      "metadata": {
        "colab": {
          "base_uri": "https://localhost:8080/",
          "height": 826
        },
        "id": "ehILmdlwsDEi",
        "outputId": "9798325a-a90f-4b63-c3fe-902c424d14cb"
      },
      "outputs": [
        {
          "output_type": "display_data",
          "data": {
            "text/plain": [
              "<Figure size 1000x1000 with 25 Axes>"
            ],
            "image/png": "[encoded data removed]"
          },
          "metadata": {}
        }
      ],
      "source": [
        "plt.figure(figsize=(10,10))\n",
        "for i in range(25):\n",
        "    plt.subplot(5,5,i+1)\n",
        "    plt.xticks([])\n",
        "    plt.yticks([])\n",
        "    plt.grid(False)\n",
        "    plt.imshow(train_images[i], cmap=plt.cm.binary)\n",
        "    plt.xlabel(class_names[train_labels[i]])\n",
        "plt.show()"
      ]
    },
    {
      "cell_type": "markdown",
      "metadata": {
        "id": "KYbevqiZtW8e"
      },
      "source": [
        "#Generar el modelo"
      ]
    },
    {
      "cell_type": "markdown",
      "metadata": {
        "id": "b23GxuYytfnc"
      },
      "source": [
        "La capa es el componente básico de una red neuronal. Las capas extraen las representaciones de los datos que les cargan. Se espera que dichas representaciones sean significativas para el problema en cuestión.\n",
        "\n",
        "La mayor parte del aprendizaje profundo consiste en encadenar capas simples. La mayoría de las capas, como tf.keras.layers.Dense, tienen parámetros que se aprenden durante el entrenamiento.\n",
        "\n"
      ]
    },
    {
      "cell_type": "code",
      "execution_count": 62,
      "metadata": {
        "id": "EwkUWTYyuBiQ"
      },
      "outputs": [],
      "source": [
        "model = tf.keras.Sequential([\n",
        "    tf.keras.layers.Flatten(input_shape=(28, 28)),#Blanco y negro, se aplasta a una sola capa con 784 neuronas donde ahi se alamacenas las neuronas\n",
        "    tf.keras.layers.Dense(128, activation='relu'),\n",
        "    tf.keras.layers.Dense(10)\n",
        "])"
      ]
    },
    {
      "cell_type": "markdown",
      "metadata": {
        "id": "B0ssf0a2uo9l"
      },
      "source": [
        "#Compilar el modelo"
      ]
    },
    {
      "cell_type": "code",
      "execution_count": 63,
      "metadata": {
        "id": "eJGT4q8hurl5"
      },
      "outputs": [],
      "source": [
        "model.compile(optimizer='adam',\n",
        "              loss=tf.keras.losses.SparseCategoricalCrossentropy(from_logits=True),\n",
        "              metrics=['accuracy'])"
      ]
    },
    {
      "cell_type": "markdown",
      "metadata": {
        "id": "-V316RzNu5EY"
      },
      "source": [
        "# Entrenar el modelo"
      ]
    },
    {
      "cell_type": "code",
      "execution_count": 64,
      "metadata": {
        "colab": {
          "base_uri": "https://localhost:8080/"
        },
        "id": "2tl2R8v2u8i-",
        "outputId": "6633dd5a-5641-4334-e5a5-4e50b5b7c35f"
      },
      "outputs": [
        {
          "output_type": "stream",
          "name": "stdout",
          "text": [
            "Epoch 1/10\n",
            "1875/1875 [==============================] - 7s 3ms/step - loss: 1.1429 - accuracy: 0.7277\n",
            "Epoch 2/10\n",
            "1875/1875 [==============================] - 8s 4ms/step - loss: 0.4768 - accuracy: 0.8750\n",
            "Epoch 3/10\n",
            "1875/1875 [==============================] - 6s 3ms/step - loss: 0.3775 - accuracy: 0.8954\n",
            "Epoch 4/10\n",
            "1875/1875 [==============================] - 8s 4ms/step - loss: 0.3377 - accuracy: 0.9047\n",
            "Epoch 5/10\n",
            "1875/1875 [==============================] - 6s 3ms/step - loss: 0.3150 - accuracy: 0.9094\n",
            "Epoch 6/10\n",
            "1875/1875 [==============================] - 8s 4ms/step - loss: 0.2989 - accuracy: 0.9136\n",
            "Epoch 7/10\n",
            "1875/1875 [==============================] - 6s 3ms/step - loss: 0.2865 - accuracy: 0.9178\n",
            "Epoch 8/10\n",
            "1875/1875 [==============================] - 8s 4ms/step - loss: 0.2756 - accuracy: 0.9207\n",
            "Epoch 9/10\n",
            "1875/1875 [==============================] - 6s 3ms/step - loss: 0.2662 - accuracy: 0.9227\n",
            "Epoch 10/10\n",
            "1875/1875 [==============================] - 8s 4ms/step - loss: 0.2566 - accuracy: 0.9262\n"
          ]
        },
        {
          "output_type": "execute_result",
          "data": {
            "text/plain": [
              "<keras.src.callbacks.History at 0x7c0afc91c4f0>"
            ]
          },
          "metadata": {},
          "execution_count": 64
        }
      ],
      "source": [
        "model.fit(train_images, train_labels, epochs=10)"
      ]
    },
    {
      "cell_type": "markdown",
      "metadata": {
        "id": "Uo4uoXDCvBM-"
      },
      "source": [
        "#Evaluar precision\n"
      ]
    },
    {
      "cell_type": "code",
      "execution_count": 65,
      "metadata": {
        "colab": {
          "base_uri": "https://localhost:8080/"
        },
        "id": "DR-6n_A1vEg2",
        "outputId": "e71e870a-3614-4d06-c25a-ccb4964c29a0"
      },
      "outputs": [
        {
          "output_type": "stream",
          "name": "stdout",
          "text": [
            "313/313 - 1s - loss: 0.2512 - accuracy: 0.9268 - 594ms/epoch - 2ms/step\n",
            "\n",
            "Test accuracy: 0.926800012588501\n"
          ]
        }
      ],
      "source": [
        "test_loss, test_acc = model.evaluate(test_images,  test_labels, verbose=2)\n",
        "\n",
        "print('\\nTest accuracy:', test_acc)"
      ]
    },
    {
      "cell_type": "markdown",
      "metadata": {
        "id": "1VFe0pzvvgMc"
      },
      "source": [
        "#Hacer predicciones"
      ]
    },
    {
      "cell_type": "code",
      "execution_count": 66,
      "metadata": {
        "colab": {
          "base_uri": "https://localhost:8080/"
        },
        "id": "KNqkLdTzvo40",
        "outputId": "32649ca1-fcaf-415f-f66b-fc9931c95d37"
      },
      "outputs": [
        {
          "output_type": "stream",
          "name": "stdout",
          "text": [
            "313/313 [==============================] - 1s 2ms/step\n"
          ]
        },
        {
          "output_type": "execute_result",
          "data": {
            "text/plain": [
              "7"
            ]
          },
          "metadata": {},
          "execution_count": 66
        }
      ],
      "source": [
        "probability_model = tf.keras.Sequential([model,\n",
        "                                         tf.keras.layers.Softmax()])\n",
        "\n",
        "predictions = probability_model.predict(test_images)\n",
        "\n",
        "predictions[0]\n",
        "np.argmax(predictions[0])\n",
        "test_labels[0]"
      ]
    },
    {
      "cell_type": "code",
      "execution_count": 67,
      "metadata": {
        "id": "0OR1KKFEwA9O"
      },
      "outputs": [],
      "source": [
        "def plot_image(i, predictions_array, true_label, img):\n",
        "  true_label, img = true_label[i], img[i]\n",
        "  plt.grid(False)\n",
        "  plt.xticks([])\n",
        "  plt.yticks([])\n",
        "\n",
        "  plt.imshow(img, cmap=plt.cm.binary)\n",
        "\n",
        "  predicted_label = np.argmax(predictions_array)\n",
        "  if predicted_label == true_label:\n",
        "    color = 'blue'\n",
        "  else:\n",
        "    color = 'red'\n",
        "\n",
        "  plt.xlabel(\"{} {:2.0f}% ({})\".format(class_names[predicted_label],\n",
        "                                100*np.max(predictions_array),\n",
        "                                class_names[true_label]),\n",
        "                                color=color)\n",
        "\n",
        "def plot_value_array(i, predictions_array, true_label):\n",
        "  true_label = true_label[i]\n",
        "  plt.grid(False)\n",
        "  plt.xticks(range(10))\n",
        "  plt.yticks([])\n",
        "  thisplot = plt.bar(range(10), predictions_array, color=\"#777777\")\n",
        "  plt.ylim([0, 1])\n",
        "  predicted_label = np.argmax(predictions_array)\n",
        "\n",
        "  thisplot[predicted_label].set_color('red')\n",
        "  thisplot[true_label].set_color('blue')"
      ]
    },
    {
      "cell_type": "code",
      "execution_count": 68,
      "metadata": {
        "colab": {
          "base_uri": "https://localhost:8080/",
          "height": 291
        },
        "id": "LI7jadVMwEvU",
        "outputId": "f5b8a079-dd51-4323-eedc-dd82b460397e"
      },
      "outputs": [
        {
          "output_type": "display_data",
          "data": {
            "text/plain": [
              "<Figure size 600x300 with 2 Axes>"
            ],
            "image/png": "[encoded data removed]"
          },
          "metadata": {}
        }
      ],
      "source": [
        "i = 0\n",
        "plt.figure(figsize=(6,3))\n",
        "plt.subplot(1,2,1)\n",
        "plot_image(i, predictions[i], test_labels, test_images)\n",
        "plt.subplot(1,2,2)\n",
        "plot_value_array(i, predictions[i],  test_labels)\n",
        "plt.show()"
      ]
    },
    {
      "cell_type": "code",
      "execution_count": 69,
      "metadata": {
        "colab": {
          "base_uri": "https://localhost:8080/",
          "height": 291
        },
        "id": "O6PKrQIAwHKT",
        "outputId": "3f4e7108-07bf-49d8-d019-2b655820b168"
      },
      "outputs": [
        {
          "output_type": "display_data",
          "data": {
            "text/plain": [
              "<Figure size 600x300 with 2 Axes>"
            ],
            "image/png": "[encoded data removed]"
          },
          "metadata": {}
        }
      ],
      "source": [
        "i = 12\n",
        "plt.figure(figsize=(6,3))\n",
        "plt.subplot(1,2,1)\n",
        "plot_image(i, predictions[i], test_labels, test_images)\n",
        "plt.subplot(1,2,2)\n",
        "plot_value_array(i, predictions[i],  test_labels)\n",
        "plt.show()"
      ]
    },
    {
      "cell_type": "code",
      "execution_count": 76,
      "metadata": {
        "colab": {
          "base_uri": "https://localhost:8080/",
          "height": 1000
        },
        "id": "OlwWVWFxwJmk",
        "outputId": "8a671104-60b2-42f5-a57b-b8595fe352d7"
      },
      "outputs": [
        {
          "output_type": "display_data",
          "data": {
            "text/plain": [
              "<Figure size 1200x1000 with 30 Axes>"
            ],
            "image/png": "[encoded data removed]"
          },
          "metadata": {}
        }
      ],
      "source": [
        "# Plot the first X test images, their predicted labels, and the true labels.\n",
        "# Color correct predictions in blue and incorrect predictions in red.\n",
        "num_rows = 5\n",
        "num_cols = 3\n",
        "num_images = num_rows*num_cols\n",
        "plt.figure(figsize=(2*2*num_cols, 2*num_rows))\n",
        "for i in range(num_images):\n",
        "  plt.subplot(num_rows, 2*num_cols, 2*i+1)\n",
        "  plot_image(i, predictions[i], test_labels, test_images)\n",
        "  plt.subplot(num_rows, 2*num_cols, 2*i+2)\n",
        "  plot_value_array(i, predictions[i], test_labels)\n",
        "plt.tight_layout()\n",
        "plt.show()"
      ]
    },
    {
      "cell_type": "markdown",
      "source": [
        "#Conclusion"
      ],
      "metadata": {
        "id": "A2dIfG2YmUXP"
      }
    },
    {
      "cell_type": "markdown",
      "source": [
        "Podemos Concluir que entrenamos bien la IA, con una precision del 92%."
      ],
      "metadata": {
        "id": "RtztXvkAmWP_"
      }
    }
  ],
  "metadata": {
    "colab": {
      "provenance": []
    },
    "kernelspec": {
      "display_name": "Python 3",
      "name": "python3"
    },
    "language_info": {
      "name": "python"
    }
  },
  "nbformat": 4,
  "nbformat_minor": 0
}