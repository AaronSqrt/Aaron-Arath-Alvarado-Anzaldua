{
  "nbformat": 4,
  "nbformat_minor": 0,
  "metadata": {
    "colab": {
      "provenance": []
    },
    "kernelspec": {
      "name": "python3",
      "display_name": "Python 3"
    },
    "language_info": {
      "name": "python"
    }
  },
  "cells": [
    {
      "cell_type": "markdown",
      "source": [
        "# Ejercicio de Python 1\n",
        "Aaron Arath Alvarado Anzaldua\n",
        "1951187\n",
        "LMV\n",
        "N1 5:00 PM"
      ],
      "metadata": {
        "id": "nSYUDyKMcqR2"
      }
    },
    {
      "cell_type": "markdown",
      "source": [
        "**1 Desarrolla un algoritmo que le pida al usuario por su nombre y que lo salude con su nombre, excepto si se llama “Ana”, “Juan”, y “Pedro”.**"
      ],
      "metadata": {
        "id": "bypLhUUEc3va"
      }
    },
    {
      "cell_type": "code",
      "source": [
        "nombre_Usuario = input(\"Dame tu nombre: \")\n",
        "if nombre_Usuario == \"Juan\" or nombre_Usuario == \"Ana\" or nombre_Usuario == \"Pedro\":\n",
        "    print()\n",
        "else:\n",
        "    print(\"Hola \" + nombre_Usuario)"
      ],
      "metadata": {
        "colab": {
          "base_uri": "https://localhost:8080/"
        },
        "id": "GCfn6re6c_r-",
        "outputId": "90dcbca1-bf67-4fbf-909e-5a31c31467da"
      },
      "execution_count": 68,
      "outputs": [
        {
          "output_type": "stream",
          "name": "stdout",
          "text": [
            "Dame tu nombre: Aaron\n",
            "Hola Aaron\n"
          ]
        }
      ]
    },
    {
      "cell_type": "markdown",
      "source": [
        "**2 Desarrolla un algoritmo que por medio de una función, le pida al usuario una lista de N elementos y como resultado invierta el sentido de la lista.**"
      ],
      "metadata": {
        "id": "PqAf8Oe6gTg8"
      }
    },
    {
      "cell_type": "code",
      "source": [
        "def invertida():\n",
        "  numero_lista = int(input(\"Ingrese la cantidad de elementos en la lista: \"))\n",
        "\n",
        "  lista_original = []\n",
        "  for i in range(numero_lista):\n",
        "    elemento = input(\"Ingrese el elemento: \")\n",
        "    lista_original.append(elemento)\n",
        "\n",
        "  lista_invertida = list(reversed(lista_original))\n",
        "  print(\"Lista Orignal\" , lista_original)\n",
        "  print(\"Lista Invertida\" , lista_invertida)\n",
        "\n",
        "invertida()"
      ],
      "metadata": {
        "colab": {
          "base_uri": "https://localhost:8080/"
        },
        "id": "0RWJSCZygeNB",
        "outputId": "cea24221-1a81-4387-dcf2-f47d72a6c29e"
      },
      "execution_count": 62,
      "outputs": [
        {
          "output_type": "stream",
          "name": "stdout",
          "text": [
            "Ingrese la cantidad de elementos en la lista: 5\n",
            "Ingrese el elemento: a\n",
            "Ingrese el elemento: b\n",
            "Ingrese el elemento: c\n",
            "Ingrese el elemento: d\n",
            "Ingrese el elemento: e\n",
            "Lista Orignal ['a', 'b', 'c', 'd', 'e']\n",
            "Lista Invertida ['e', 'd', 'c', 'b', 'a']\n"
          ]
        }
      ]
    },
    {
      "cell_type": "markdown",
      "source": [
        "**3 Desarrolla un algoritmo que le pregunte al usuario cuántos números de la serie de Fibonacci quiere generar y que al final los imprima.**"
      ],
      "metadata": {
        "id": "CEojVkEwukk4"
      }
    },
    {
      "cell_type": "code",
      "source": [
        "def fibonacci(n):\n",
        "    a, b = 0, 1\n",
        "\n",
        "    for _ in range(n):\n",
        "        print(a, end=\" \")\n",
        "        a, b = b, a + b\n",
        "cantidad_numeros = int(input(\"Ingrese cuántos números de la serie de Fibonacci desea generar: \"))\n",
        "print(f\"Los primeros {cantidad_numeros} números de la serie de Fibonacci son:\")\n",
        "\n",
        "fibonacci(cantidad_numeros)"
      ],
      "metadata": {
        "colab": {
          "base_uri": "https://localhost:8080/"
        },
        "id": "glwRuonXum_Q",
        "outputId": "d1f42464-8b18-47db-bf10-8355328d8776"
      },
      "execution_count": 63,
      "outputs": [
        {
          "output_type": "stream",
          "name": "stdout",
          "text": [
            "Ingrese cuántos números de la serie de Fibonacci desea generar: 5\n",
            "Los primeros 5 números de la serie de Fibonacci son:\n",
            "0 1 1 2 3 "
          ]
        }
      ]
    },
    {
      "cell_type": "markdown",
      "source": [
        "**4 Juego de adivinar el número: Crea un programa que genere un número aleatorio entre 1 y 100, y luego le pida al usuario que adivine el número. El programa debe proporcionar pistas al usuario si el número es mayor o menor que el número objetivo, y seguir solicitando un nuevo intento hasta que el usuario adivine correctamente.**"
      ],
      "metadata": {
        "id": "_tyii8femerI"
      }
    },
    {
      "cell_type": "code",
      "source": [
        "import random\n",
        "numero_Objetivo = random.randint(1, 100)\n",
        "\n",
        "intentos = 0\n",
        "adivinando = False\n",
        "\n",
        "print(\"Bienvenido al juego de adivinar el número entre 1 y 100.\")\n",
        "\n",
        "while not adivinando:\n",
        "  intento_Usuario = int(input(\"Ingresa tu intento \"))\n",
        "  intentos += 1\n",
        "\n",
        "  if intento_Usuario == numero_Objetivo:\n",
        "      adivinado = True\n",
        "      print(f\"Felicidades, ¡adivinaste el número en {intentos} intentos!\")\n",
        "      break\n",
        "  elif intento_Usuario < numero_Objetivo:\n",
        "      print(\"El número es mayor. Intenta de nuevo.\")\n",
        "  else:\n",
        "      print(\"El número es menor. Intenta de nuevo.\")"
      ],
      "metadata": {
        "colab": {
          "base_uri": "https://localhost:8080/"
        },
        "id": "zxWCQnnSmjPh",
        "outputId": "879d3b7f-7875-429d-97ac-629be81f6592"
      },
      "execution_count": 64,
      "outputs": [
        {
          "output_type": "stream",
          "name": "stdout",
          "text": [
            "Bienvenido al juego de adivinar el número entre 1 y 100.\n",
            "Ingresa tu intento 50\n",
            "El número es menor. Intenta de nuevo.\n",
            "Ingresa tu intento 25\n",
            "El número es menor. Intenta de nuevo.\n",
            "Ingresa tu intento 10\n",
            "El número es menor. Intenta de nuevo.\n",
            "Ingresa tu intento 5\n",
            "El número es menor. Intenta de nuevo.\n",
            "Ingresa tu intento 2\n",
            "El número es menor. Intenta de nuevo.\n",
            "Ingresa tu intento 1\n",
            "Felicidades, ¡adivinaste el número en 6 intentos!\n"
          ]
        }
      ]
    },
    {
      "cell_type": "markdown",
      "source": [
        "**5 Ejercicio de cálculo de números primos en un rango dado: Escribe un programa que solicite al usuario un rango de números y muestre todos los números primos dentro de ese rango.**"
      ],
      "metadata": {
        "id": "cukODFnerCHJ"
      }
    },
    {
      "cell_type": "code",
      "source": [
        "limite_Inferior = int(input(\"Ingresa el limite inferior: \"))\n",
        "limite_Superior = int(input(\"Ingresa el limite superior: \"))\n",
        "print(f\"Su rango de números es {limite_Inferior} y {limite_Superior}\")\n",
        "\n",
        "def es_primo(numero):\n",
        "    for i in range(2, int(numero**0.5) + 1):\n",
        "        if numero % i == 0:\n",
        "            return False\n",
        "    return True\n",
        "\n",
        "print(f\"Números primos en el rango de {inicio_rango} a {fin_rango}:\")\n",
        "for x in range(limite_Inferior, limite_Superior + 1):\n",
        "    if es_primo(x):\n",
        "        print(x)"
      ],
      "metadata": {
        "colab": {
          "base_uri": "https://localhost:8080/"
        },
        "id": "Ky7MKX0erFDu",
        "outputId": "3ea60b94-8b89-40a7-84fd-c86616240b99"
      },
      "execution_count": 65,
      "outputs": [
        {
          "output_type": "stream",
          "name": "stdout",
          "text": [
            "Ingresa el limite inferior: 0\n",
            "Ingresa el limite superior: 100\n",
            "Su rango de números es 0 y 100\n",
            "Números primos en el rango de 1 a 100:\n",
            "0\n",
            "1\n",
            "2\n",
            "3\n",
            "5\n",
            "7\n",
            "11\n",
            "13\n",
            "17\n",
            "19\n",
            "23\n",
            "29\n",
            "31\n",
            "37\n",
            "41\n",
            "43\n",
            "47\n",
            "53\n",
            "59\n",
            "61\n",
            "67\n",
            "71\n",
            "73\n",
            "79\n",
            "83\n",
            "89\n",
            "97\n"
          ]
        }
      ]
    },
    {
      "cell_type": "markdown",
      "source": [
        "**6 Ejercicio de implementación de una calculadora básica utilizando funciones: Escribe un programa que solicite al usuario dos números y realice operaciones básicas como suma, resta, multiplicación y división utilizando funciones separadas para cada operación.**"
      ],
      "metadata": {
        "id": "s7sRYO_1u2UW"
      }
    },
    {
      "cell_type": "code",
      "source": [
        "def Suma(num1, num2):\n",
        "    return num1 + num2\n",
        "\n",
        "def Resta(num1, num2):\n",
        "    return num1 - num2\n",
        "\n",
        "def Multiplicacion(num1, num2):\n",
        "    return num1 * num2\n",
        "\n",
        "def Division(num1, num2):\n",
        "    if num2 != 0:\n",
        "        return num1 / num2\n",
        "    else:\n",
        "        return \"Error: División por cero\"\n",
        "\n",
        "numero1 = int(input(\"Ingresa el primer numero: \"))\n",
        "numero2 = int(input(\"Ingresa el segundo numero: \"))\n",
        "\n",
        "resultado_suma = Suma(numero1, numero2)\n",
        "print(f\"{numero1} + {numero2} = {resultado_suma}\")\n",
        "\n",
        "resultado_resta = Resta(numero1, numero2)\n",
        "print(f\"{numero1} - {numero2} = {resultado_resta}\")\n",
        "\n",
        "resultado_multiplicacion = Multiplicacion(numero1, numero2)\n",
        "print(f\"{numero1} * {numero2} = {resultado_multiplicacion}\")\n",
        "\n",
        "resultado_division = Division(numero1, numero2)\n",
        "print(f\"{numero1} / {numero2} = {resultado_division}\")\n"
      ],
      "metadata": {
        "colab": {
          "base_uri": "https://localhost:8080/"
        },
        "id": "qV3kpACDvSOh",
        "outputId": "d3d467a0-71b3-4bf7-a690-4ea6360bb239"
      },
      "execution_count": 66,
      "outputs": [
        {
          "output_type": "stream",
          "name": "stdout",
          "text": [
            "Ingresa el primer numero: 5\n",
            "Ingresa el segundo numero: 6\n",
            "5 + 6 = 11\n",
            "5 - 6 = -1\n",
            "5 * 6 = 30\n",
            "5 / 6 = 0.8333333333333334\n"
          ]
        }
      ]
    }
  ]
}